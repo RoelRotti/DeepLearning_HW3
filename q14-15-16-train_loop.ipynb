{
 "cells": [
  {
   "cell_type": "markdown",
   "metadata": {},
   "source": [
    "Question 14"
   ]
  },
  {
   "cell_type": "code",
   "execution_count": 4,
   "metadata": {},
   "outputs": [],
   "source": [
    "import torch\n",
    "import torch.nn as nn\n",
    "import torch.optim as optim\n",
    "from torch.utils.data import DataLoader, Dataset\n",
    "import torchvision\n",
    "import torchvision.transforms\n",
    "from torchvision.transforms import transforms\n",
    "import matplotlib.pyplot as plt\n",
    "\n",
    "class Net(nn.Module):\n",
    "    def __init__(self, input_chan, kernel, strd, padding, output):\n",
    "        super().__init__()\n",
    "        self.conv1 = nn.Sequential(nn.Conv2d(input_chan, 16, kernel, strd, padding), nn.ReLU(), nn.MaxPool2d(2,2))\n",
    "        self.conv2 = nn.Sequential(nn.Conv2d(16, 32, kernel, strd, padding), nn.ReLU(), nn.MaxPool2d(2,2))\n",
    "        self.conv3 = nn.Sequential(nn.Conv2d(32, 64, kernel, strd, padding), nn.ReLU(), nn.MaxPool2d(2,2))\n",
    "        # self.avgpool = nn.AvgPool2d((4,4), stride=None, padding=0)\n",
    "        # self.maxpool = nn.MaxPool2d((4,4), stride=None, padding=0)\n",
    "        self.out = nn.Linear(64, output)\n",
    "\n",
    "    def forward(self, x):\n",
    "        x = self.conv1(x)\n",
    "        x = self.conv2(x)\n",
    "        x = self.conv3(x)\n",
    "        # print(x.shape)\n",
    "        x = x.mean(dim=(-2, -1)) #dit werkt wel -> equivalent van glob average pool?\n",
    "        # glob_average_pooling=nn.AvgPool2d((x.shape[2],x.shape[3]), stride=None, padding=0) #dit werkt niet\n",
    "        # x = glob_average_pooling(x)\n",
    "        # glob_max_pooling=nn.MaxPool2d((x.shape[2],x.shape[3]), stride=None, padding=0) #dit werkt niet\n",
    "        # x = glob_average_pooling(x)\n",
    "        # print(x.shape)\n",
    "        output = self.out(x)\n",
    "        return output"
   ]
  },
  {
   "cell_type": "code",
   "execution_count": 5,
   "metadata": {},
   "outputs": [],
   "source": [
    "def validate(net, loader):\n",
    "    net.eval()\n",
    "    correct = 0\n",
    "    with torch.no_grad():\n",
    "        for x, y in loader['val_set']:\n",
    "            output = net(x)\n",
    "            _,pred_y = torch.max(output, dim = 1)\n",
    "            correct += (pred_y == y).float().sum()\n",
    "\n",
    "    print('accuracy on validation set', (correct / 10000)*100, '%')\n",
    "    return (correct / 10000)*100\n",
    "\n",
    "def train(net, loader, epochs, loss_f, opt):\n",
    "    train_loss = []\n",
    "    epoch_list = []\n",
    "    acc_list = []\n",
    "\n",
    "    for i in range(epochs):\n",
    "        print('epoch = ', i)\n",
    "        for j, (x, y) in enumerate(loader['train_set']):\n",
    "            opt.zero_grad()\n",
    "            x_batch = x\n",
    "            y_batch = y\n",
    "            output = net.forward(x_batch)\n",
    "            loss = loss_f(output, y_batch)\n",
    "            train_loss.append(loss)\n",
    "            if j % 1000 == 0:\n",
    "                print('loss:', loss.item())\n",
    "            loss.backward()\n",
    "            opt.step() \n",
    "        epoch_list.append(i)\n",
    "        acc_list.append(validate(net, loader))\n",
    "    return [train_loss, epoch_list, acc_list]\n",
    "\n",
    "def loader_loop(loader_list, epochs, input_chan, kernel, stride, padding, output):\n",
    "    results = []\n",
    "    lr = 0.0001\n",
    "    for loader in loader_list:\n",
    "        net = Net(input_chan, kernel, stride, padding, output)\n",
    "        loss_f = nn.CrossEntropyLoss()\n",
    "        opt = optim.Adam(net.parameters(), lr)\n",
    "        result = train(net, loader, epochs, loss_f, opt)\n",
    "        results.append(result)\n",
    "        print('---next image set---')\n",
    "    return results\n",
    "\n",
    "def image_folder(path):\n",
    "    training_data = torchvision.datasets.ImageFolder(path+'mnist-varres/train/', transform =  transforms.Compose([transforms.Grayscale(), transforms.ToTensor()]))\n",
    "    test_set= torchvision.datasets.ImageFolder(path+'mnist-varres/test/', transform =  transforms.Compose([transforms.Grayscale(), transforms.ToTensor()]))\n",
    "    trainsize = round(0.8*len(training_data))\n",
    "    train_set, val_set = torch.utils.data.random_split(training_data, [trainsize, len(training_data)-trainsize]) \n",
    "    return [train_set, val_set, test_set]\n",
    "\n",
    "def get_data(path1, path2, path3):\n",
    "    data1 = image_folder(path1)\n",
    "    data2 = image_folder(path2)\n",
    "    data3 = image_folder(path3)\n",
    "    return data1, data2, data3\n",
    "\n",
    "def get_loaders(batch_size, train_set, val_set, test_set):\n",
    "    loaders = {'train_set' : DataLoader(train_set, \n",
    "                                          batch_size=batch_size, \n",
    "                                          shuffle=True, \n",
    "                                          num_workers=1),\n",
    "               'val_set' : DataLoader(val_set, \n",
    "                                          batch_size=len(val_set), \n",
    "                                          shuffle=True, \n",
    "                                          num_workers=1),\n",
    "                'test_set'  : DataLoader(test_set, \n",
    "                                          batch_size=len(test_set), \n",
    "                                          shuffle=False, \n",
    "                                          num_workers=1)}\n",
    "    return loaders"
   ]
  },
  {
   "cell_type": "code",
   "execution_count": 6,
   "metadata": {},
   "outputs": [],
   "source": [
    "path1 = '32x32/'\n",
    "path2 = '48x48/'\n",
    "path3 = '64x64/'\n",
    "data32, data48, data64 = get_data(path1, path2, path3)\n",
    "\n",
    "batch_size = 64\n",
    "loaders32 = get_loaders(batch_size, data32[0], data32[1], data32[2])\n",
    "loaders48 = get_loaders(batch_size, data48[0], data48[1], data48[2])\n",
    "loaders64 = get_loaders(batch_size, data64[0], data64[1], data64[2])\n",
    "loader_list = [loaders32, loaders48, loaders64]"
   ]
  },
  {
   "cell_type": "code",
   "execution_count": 7,
   "metadata": {},
   "outputs": [
    {
     "name": "stdout",
     "output_type": "stream",
     "text": [
      "{'train_set': <torch.utils.data.dataloader.DataLoader object at 0x108b0b340>, 'val_set': <torch.utils.data.dataloader.DataLoader object at 0x108b0b4f0>, 'test_set': <torch.utils.data.dataloader.DataLoader object at 0x108b0b310>}\n",
      "epoch =  0\n",
      "loss: 2.3140907287597656\n",
      "accuracy on validation set tensor(10.7200) %\n",
      "epoch =  1\n",
      "loss: 2.2188496589660645\n",
      "accuracy on validation set tensor(14.7800) %\n",
      "epoch =  2\n",
      "loss: 1.9946706295013428\n",
      "accuracy on validation set tensor(18.3400) %\n",
      "epoch =  3\n",
      "loss: 1.7059462070465088\n",
      "accuracy on validation set tensor(22.5000) %\n",
      "epoch =  4\n",
      "loss: 1.6503911018371582\n",
      "accuracy on validation set tensor(24.7100) %\n",
      "---next image set---\n",
      "{'train_set': <torch.utils.data.dataloader.DataLoader object at 0x108ac4be0>, 'val_set': <torch.utils.data.dataloader.DataLoader object at 0x108b0bc70>, 'test_set': <torch.utils.data.dataloader.DataLoader object at 0x108b0bac0>}\n",
      "epoch =  0\n",
      "loss: 2.2948849201202393\n",
      "accuracy on validation set tensor(4.6600) %\n",
      "epoch =  1\n",
      "loss: 2.283815383911133\n",
      "accuracy on validation set tensor(9.2200) %\n",
      "epoch =  2\n",
      "loss: 2.198139190673828\n",
      "accuracy on validation set tensor(10.8400) %\n",
      "epoch =  3\n",
      "loss: 1.9309622049331665\n",
      "accuracy on validation set tensor(13.3000) %\n",
      "epoch =  4\n",
      "loss: 2.027170419692993\n",
      "accuracy on validation set tensor(15.3100) %\n",
      "---next image set---\n",
      "{'train_set': <torch.utils.data.dataloader.DataLoader object at 0x108b0bca0>, 'val_set': <torch.utils.data.dataloader.DataLoader object at 0x108b0bb50>, 'test_set': <torch.utils.data.dataloader.DataLoader object at 0x108b0bbe0>}\n",
      "epoch =  0\n",
      "loss: 2.3182907104492188\n",
      "accuracy on validation set tensor(5.2500) %\n",
      "epoch =  1\n",
      "loss: 2.285301923751831\n",
      "accuracy on validation set tensor(8.0100) %\n",
      "epoch =  2\n",
      "loss: 2.1966497898101807\n",
      "accuracy on validation set tensor(11.8200) %\n",
      "epoch =  3\n",
      "loss: 2.0916149616241455\n",
      "accuracy on validation set tensor(10.9200) %\n",
      "epoch =  4\n",
      "loss: 1.921370506286621\n",
      "accuracy on validation set tensor(15.8500) %\n",
      "---next image set---\n"
     ]
    }
   ],
   "source": [
    "input_chan = 1\n",
    "output = 10\n",
    "kernel = 3\n",
    "stride = 1\n",
    "padding = 1\n",
    "epochs = 5\n",
    "results = loader_loop(loader_list, epochs, input_chan, kernel, stride, padding, output)"
   ]
  },
  {
   "cell_type": "code",
   "execution_count": 9,
   "metadata": {},
   "outputs": [
    {
     "data": {
      "text/plain": [
       "<function matplotlib.pyplot.show(*args, **kw)>"
      ]
     },
     "execution_count": 9,
     "metadata": {},
     "output_type": "execute_result"
    },
    {
     "data": {
      "image/png": "[encoded data removed]",
      "text/plain": [
       "<Figure size 432x288 with 1 Axes>"
      ]
     },
     "metadata": {
      "needs_background": "light"
     },
     "output_type": "display_data"
    }
   ],
   "source": [
    "y1 = results[0][2]\n",
    "x1 = results[0][1]\n",
    "plt.plot(x1, y1, label = '32x32')\n",
    "y2 = results[1][2]\n",
    "x2 = results[1][1]\n",
    "plt.plot(x2, y2, label = '48x48')\n",
    "y3 = results[2][2]\n",
    "x3 = results[2][1]\n",
    "plt.plot(x3, y3, label = '64x64')\n",
    "plt.legend(loc='best')\n",
    "plt.savefig('figures/q14')\n",
    "plt.show"
   ]
  },
  {
   "cell_type": "markdown",
   "metadata": {},
   "source": [
    "Question 15"
   ]
  },
  {
   "cell_type": "markdown",
   "metadata": {},
   "source": [
    "Question 16: compare global avg and max pool"
   ]
  },
  {
   "cell_type": "code",
   "execution_count": null,
   "metadata": {},
   "outputs": [],
   "source": [
    "import torch\n",
    "import torch.nn as nn\n",
    "import torch.optim as optim\n",
    "from torch.utils.data import DataLoader, Dataset\n",
    "import torchvision\n",
    "import torchvision.transforms\n",
    "from torchvision.transforms import transforms\n",
    "import matplotlib.pyplot as plt\n",
    "\n",
    "class Net(nn.Module):\n",
    "    def __init__(self, input_chan, kernel, strd, padding, output, avg=False):\n",
    "        super().__init__()\n",
    "        self.conv1 = nn.Sequential(nn.Conv2d(input_chan, 16, kernel, strd, padding), nn.ReLU(), nn.MaxPool2d(2,2))\n",
    "        self.conv2 = nn.Sequential(nn.Conv2d(16, 32, kernel, strd, padding), nn.ReLU(), nn.MaxPool2d(2,2))\n",
    "        self.conv3 = nn.Sequential(nn.Conv2d(32, 64, kernel, strd, padding), nn.ReLU(), nn.MaxPool2d(2,2))\n",
    "        # self.avgpool = nn.AvgPool2d((4,4), stride=None, padding=0)\n",
    "        # self.maxpool = nn.MaxPool2d((4,4), stride=None, padding=0)\n",
    "        self.out = nn.Linear(64, output)\n",
    "        self.avg = avg\n",
    "\n",
    "    def forward(self, x):\n",
    "        x = self.conv1(x)\n",
    "        x = self.conv2(x)\n",
    "        x = self.conv3(x)\n",
    "        # print(x.shape)\n",
    "        if self.avg==True:\n",
    "            x = x.mean(dim=(-2, -1)) #dit werkt wel -> equivalent van glob average pool?\n",
    "        # glob_average_pooling=nn.AvgPool2d((x.shape[2],x.shape[3]), stride=None, padding=0) #dit werkt niet\n",
    "        # x = glob_average_pooling(x)\n",
    "        else:\n",
    "            glob_average_pooling=nn.MaxPool2d((x.shape[2],x.shape[3]), stride=None, padding=0) #dit werkt niet\n",
    "            x = glob_average_pooling(x)\n",
    "        # print(x.shape)\n",
    "        output = self.out(x)\n",
    "        return output"
   ]
  },
  {
   "cell_type": "code",
   "execution_count": null,
   "metadata": {},
   "outputs": [],
   "source": [
    "def validate(net, loader):\n",
    "    net.eval()\n",
    "    correct = 0\n",
    "    with torch.no_grad():\n",
    "        for x, y in loader['val_set']:\n",
    "            output = net(x)\n",
    "            _,pred_y = torch.max(output, dim = 1)\n",
    "            correct += (pred_y == y).float().sum()\n",
    "\n",
    "    print('accuracy on validation set', (correct / 10000)*100, '%')\n",
    "    return (correct / 10000)*100\n",
    "\n",
    "def train(net, loader, epochs, loss_f, opt):\n",
    "    train_loss = []\n",
    "    epoch_list = []\n",
    "    acc_list = []\n",
    "\n",
    "    for i in range(epochs):\n",
    "        print('epoch = ', i)\n",
    "        for j, (x, y) in enumerate(loader['train_set']):\n",
    "            opt.zero_grad()\n",
    "            x_batch = x\n",
    "            y_batch = y\n",
    "            output = net.forward(x_batch)\n",
    "            loss = loss_f(output, y_batch)\n",
    "            train_loss.append(loss)\n",
    "            if j % 1000 == 0:\n",
    "                print('loss:', loss.item())\n",
    "            loss.backward()\n",
    "            opt.step() \n",
    "        epoch_list.append(i)\n",
    "        acc_list.append(validate(net, loader))\n",
    "    return [train_loss, epoch_list, acc_list]"
   ]
  },
  {
   "cell_type": "code",
   "execution_count": 12,
   "metadata": {},
   "outputs": [],
   "source": [
    "def image_folder(path):\n",
    "    training_data = torchvision.datasets.ImageFolder(path+'mnist-varres/train/', transform =  transforms.Compose([transforms.Grayscale(), transforms.ToTensor(), transforms.Resize((32,32))]))\n",
    "    test_set= torchvision.datasets.ImageFolder(path+'mnist-varres/test/', transform =  transforms.Compose([transforms.Grayscale(), transforms.ToTensor(), transforms.Resize((32,32))]))\n",
    "    trainsize = round(0.8*len(training_data))\n",
    "    train_set, val_set = torch.utils.data.random_split(training_data, [trainsize, len(training_data)-trainsize]) \n",
    "    return [train_set, val_set, test_set]\n",
    "\n",
    "def get_loaders(batch_size, train_set, val_set, test_set):\n",
    "    loaders = {'train_set' : DataLoader(train_set, \n",
    "                                          batch_size=batch_size, \n",
    "                                          shuffle=True, \n",
    "                                          num_workers=1),\n",
    "               'val_set' : DataLoader(val_set, \n",
    "                                          batch_size=len(val_set), \n",
    "                                          shuffle=True, \n",
    "                                          num_workers=1),\n",
    "                'test_set'  : DataLoader(test_set, \n",
    "                                          batch_size=len(test_set), \n",
    "                                          shuffle=False, \n",
    "                                          num_workers=1)}\n",
    "    return loaders"
   ]
  },
  {
   "cell_type": "code",
   "execution_count": 13,
   "metadata": {},
   "outputs": [],
   "source": [
    "data = image_folder('')\n",
    "batchsize = 64\n",
    "loaders = get_loaders(batchsize, data[0], data[1], data[2])\n"
   ]
  },
  {
   "cell_type": "code",
   "execution_count": null,
   "metadata": {},
   "outputs": [],
   "source": [
    "input_chan = 1\n",
    "output = 10\n",
    "kernel = 3\n",
    "stride = 1\n",
    "padding = 1\n",
    "epochs = 20\n",
    "lr = 0.0001\n",
    "loss_f = nn.CrossEntropyLoss()\n",
    "net = Net(input_chan, kernel, stride, padding, output, avg=True)\n",
    "opt = optim.Adam(net.parameters(), lr)\n",
    "results_avg = train(net, loaders, epochs, loss_f, opt)"
   ]
  },
  {
   "cell_type": "code",
   "execution_count": null,
   "metadata": {},
   "outputs": [],
   "source": [
    "input_chan = 1\n",
    "output = 10\n",
    "kernel = 3\n",
    "stride = 1\n",
    "padding = 1\n",
    "epochs = 20\n",
    "lr = 0.0001\n",
    "loss_f = nn.CrossEntropyLoss()\n",
    "net = Net(input_chan, kernel, stride, padding, output, avg=False)\n",
    "opt = optim.Adam(net.parameters(), lr)\n",
    "results_max = train(net, loaders, epochs, loss_f, opt)"
   ]
  },
  {
   "cell_type": "code",
   "execution_count": 14,
   "metadata": {},
   "outputs": [
    {
     "name": "stdout",
     "output_type": "stream",
     "text": [
      "{'train_set': <torch.utils.data.dataloader.DataLoader object at 0x15e9cb100>, 'val_set': <torch.utils.data.dataloader.DataLoader object at 0x15e9eea90>, 'test_set': <torch.utils.data.dataloader.DataLoader object at 0x15e9e88b0>}\n"
     ]
    }
   ],
   "source": []
  },
  {
   "cell_type": "markdown",
   "metadata": {},
   "source": [
    "Question 17"
   ]
  },
  {
   "cell_type": "code",
   "execution_count": null,
   "metadata": {},
   "outputs": [],
   "source": [
    "#tuning on learning rate, batchsize and...?"
   ]
  }
 ],
 "metadata": {
  "interpreter": {
   "hash": "31f2aee4e71d21fbe5cf8b01ff0e069b9275f58929596ceb00d14d90e3e16cd6"
  },
  "kernelspec": {
   "display_name": "Python 3.8.2 64-bit",
   "language": "python",
   "name": "python3"
  },
  "language_info": {
   "codemirror_mode": {
    "name": "ipython",
    "version": 3
   },
   "file_extension": ".py",
   "mimetype": "text/x-python",
   "name": "python",
   "nbconvert_exporter": "python",
   "pygments_lexer": "ipython3",
   "version": "3.8.2"
  },
  "orig_nbformat": 4
 },
 "nbformat": 4,
 "nbformat_minor": 2
}
